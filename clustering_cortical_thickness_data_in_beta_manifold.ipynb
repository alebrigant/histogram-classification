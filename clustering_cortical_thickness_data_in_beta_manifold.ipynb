{
 "cells": [
  {
   "cell_type": "markdown",
   "metadata": {},
   "source": [
    "# Classifying histograms of Cortical Thickness data"
   ]
  },
  {
   "cell_type": "markdown",
   "metadata": {},
   "source": [
    "This notebook illustrates how to classify histograms of bounded values using the Fisher-Rao geometry of beta distributions. The values are measurements of cortical thickness for different patients, divided into 2 groups: healthy control subjects and Alzheimer's disease patients. This notebook uses the [information geometry module](https://github.com/geomstats/geomstats/tree/main/geomstats/information_geometry) of the open source Python package [geomstats](https://github.com/geomstats/geomstats)."
   ]
  },
  {
   "cell_type": "code",
   "execution_count": null,
   "metadata": {},
   "outputs": [],
   "source": [
    "import geomstats.backend as gs"
   ]
  },
  {
   "cell_type": "markdown",
   "metadata": {},
   "source": [
    "## Load and normalize cortical thickness data"
   ]
  },
  {
   "cell_type": "markdown",
   "metadata": {},
   "source": [
    "Cortical Thickness (CTh) measured by structural Medical Resonance Imaging (MRI) is a biomarker for the early diagnosis of Alzheimer’s disease. The data used in this application were extracted from MR scans selected from the Alzheimer’s Disease Neuroimaging Initiative (ADNI) database. The population is composed of 143 subjects: 71 healthy controls subjects and 72 Alzheimer’s disease patients. CTh was measured using the Matlab toolbox CorThiZon (Querbes et al., 2009).\n",
    "\n",
    "For each subject, the data consist in measurements of CTh along the whole cortical ribbon, with a normalized voxel size of 1mm along all directions. Due to the variability of the size and shape of the brain among the population of study, we obtain samples of unequal length. This results in the lack of a common representation space for the data.\n",
    "\n",
    "To overcome this, a distribution approach is adopted: for each patient, a beta distribution is fitted to the measurements, after renormalization. The beta distributions are defined on the unit segment and present a rich variety of shapes, which makes them an interesting choice for this application. Each patient is represented by a point in the parameter space of beta distributions. In this representation space, KMeans clustering and KNN classification are then performed using both Euclidean and Fisher information distances."
   ]
  },
  {
   "cell_type": "code",
   "execution_count": 1,
   "metadata": {},
   "outputs": [],
   "source": [
    "import numpy as np\n",
    "from time import time\n",
    "\n",
    "import warnings\n",
    "warnings.filterwarnings('ignore')"
   ]
  },
  {
   "cell_type": "code",
   "execution_count": 2,
   "metadata": {},
   "outputs": [],
   "source": [
    "original_data = np.load('cortical_thickness.npy', allow_pickle=True)\n",
    "labels = np.load('labels.npy', allow_pickle=True)\n",
    "\n",
    "max_value = np.amax(np.vstack(original_data))\n",
    "data = original_data / max_value"
   ]
  },
  {
   "cell_type": "markdown",
   "metadata": {},
   "source": [
    "## Estimate beta parameters for each patient"
   ]
  },
  {
   "cell_type": "code",
   "execution_count": 3,
   "metadata": {},
   "outputs": [
    {
     "name": "stdout",
     "output_type": "stream",
     "text": [
      "Working directory:  /Users/Utilisateur/Python/geomstats\n"
     ]
    }
   ],
   "source": [
    "import os\n",
    "import subprocess\n",
    "\n",
    "geomstats_gitroot_path = subprocess.check_output(\n",
    "    [\"git\", \"rev-parse\", \"--show-toplevel\"], universal_newlines=True\n",
    ")\n",
    "\n",
    "os.chdir(geomstats_gitroot_path[:-1])\n",
    "\n",
    "print(\"Working directory: \", os.getcwd())"
   ]
  },
  {
   "cell_type": "code",
   "execution_count": 4,
   "metadata": {},
   "outputs": [
    {
     "name": "stderr",
     "output_type": "stream",
     "text": [
      "INFO: Using numpy backend\n"
     ]
    }
   ],
   "source": [
    "from geomstats.information_geometry.beta import BetaDistributions\n",
    "\n",
    "beta = BetaDistributions()\n",
    "points = []\n",
    "for array in data:\n",
    "    samples = gs.squeeze(array)\n",
    "    beta_param = beta.maximum_likelihood_fit(samples)\n",
    "    points.append(beta_param)\n",
    "points = gs.stack(points)"
   ]
  },
  {
   "cell_type": "code",
   "execution_count": 5,
   "metadata": {},
   "outputs": [
    {
     "data": {
      "image/png": "[encoded data removed]",
      "text/plain": [
       "<Figure size 432x288 with 1 Axes>"
      ]
     },
     "metadata": {
      "needs_background": "light"
     },
     "output_type": "display_data"
    }
   ],
   "source": [
    "import matplotlib.pyplot as plt\n",
    "\n",
    "index = 0\n",
    "pdf = beta.point_to_pdf(points[index])\n",
    "x = gs.linspace(0., 1., 100)\n",
    "\n",
    "plt.hist(data[index], 50, density='True')\n",
    "plt.plot(x, pdf(x), 'r')\n",
    "plt.show()"
   ]
  },
  {
   "cell_type": "code",
   "execution_count": 6,
   "metadata": {},
   "outputs": [
    {
     "data": {
      "image/png": "[encoded data removed]",
      "text/plain": [
       "<Figure size 432x288 with 1 Axes>"
      ]
     },
     "metadata": {
      "needs_background": "light"
     },
     "output_type": "display_data"
    }
   ],
   "source": [
    "points_control = points[labels==False, :]\n",
    "points_patients = points[labels==True, :]\n",
    "\n",
    "plt.figure()\n",
    "plt.plot(points_control[:, 0], points_control[:, 1], 'og')\n",
    "plt.plot(points_patients[:, 0], points_patients[:, 1], 'or')\n",
    "plt.title('Parameter space of beta distributions')\n",
    "plt.show()"
   ]
  },
  {
   "cell_type": "markdown",
   "metadata": {},
   "source": [
    "## KMeans clustering"
   ]
  },
  {
   "cell_type": "code",
   "execution_count": 7,
   "metadata": {},
   "outputs": [
    {
     "name": "stdout",
     "output_type": "stream",
     "text": [
      "Euclidean KMeans clustering accuracy is 0.6713286713286714\n"
     ]
    }
   ],
   "source": [
    "from geomstats.geometry.euclidean import Euclidean\n",
    "from geomstats.learning.kmeans import RiemannianKMeans\n",
    "\n",
    "r2 = Euclidean(dim=2)\n",
    "eucl_kmeans = RiemannianKMeans(space=r2, n_clusters=2)\n",
    "eucl_kmeans.fit(points)\n",
    "\n",
    "diff = gs.sum(gs.abs(eucl_kmeans.labels_ - labels)) / len(labels)\n",
    "\n",
    "print(f'Euclidean KMeans clustering accuracy is {gs.maximum(diff, 1 - diff)}') "
   ]
  },
  {
   "cell_type": "code",
   "execution_count": 8,
   "metadata": {},
   "outputs": [
    {
     "name": "stderr",
     "output_type": "stream",
     "text": [
      "INFO: Initializing...\n",
      "INFO: Iteration 0...\n",
      "INFO: Convergence criterion at the end of iteration 0 is 0.12433831214674193.\n",
      "INFO: Iteration 1...\n",
      "INFO: Convergence criterion at the end of iteration 1 is 0.0170346827860902.\n",
      "INFO: Iteration 2...\n",
      "INFO: Convergence criterion at the end of iteration 2 is 0.009808337772866401.\n",
      "INFO: Convergence reached after 2 iterations.\n"
     ]
    },
    {
     "name": "stdout",
     "output_type": "stream",
     "text": [
      "Riemannian KMeans clustering completed in  5.2  min with accuracy  0.7832167832167832\n"
     ]
    }
   ],
   "source": [
    "t0 = time()\n",
    "riem_kmeans = RiemannianKMeans(space=beta, n_clusters=2, init='kmeans++', verbose=True)\n",
    "riem_kmeans.fit(points)\n",
    "\n",
    "diff = gs.sum(gs.abs(riem_kmeans.labels_ - labels)) / len(labels)\n",
    "\n",
    "print('Riemannian KMeans clustering completed in ',\n",
    "      np.around((time() - t0)/60, 1),\n",
    "      ' min with accuracy ',\n",
    "      gs.maximum(diff, 1 - diff)\n",
    ") "
   ]
  },
  {
   "cell_type": "markdown",
   "metadata": {},
   "source": [
    "## KNN classification"
   ]
  },
  {
   "cell_type": "code",
   "execution_count": 9,
   "metadata": {},
   "outputs": [
    {
     "name": "stdout",
     "output_type": "stream",
     "text": [
      "Size of whole data set is 143\n",
      "Size of train set is 95\n",
      "Size of test set is 48\n"
     ]
    }
   ],
   "source": [
    "from sklearn.model_selection import train_test_split\n",
    "\n",
    "X_train, X_test, y_train, y_test = train_test_split(points, labels, test_size=0.33, random_state=0)\n",
    "\n",
    "print(f'Size of whole data set is {len(labels)}')\n",
    "print(f'Size of train set is {len(y_train)}')\n",
    "print(f'Size of test set is {len(y_test)}')"
   ]
  },
  {
   "cell_type": "markdown",
   "metadata": {},
   "source": [
    "Here we choose $K=10$ neighbors but several other values should be tested and cross-validation used to select the most appropriate value."
   ]
  },
  {
   "cell_type": "code",
   "execution_count": 10,
   "metadata": {},
   "outputs": [
    {
     "name": "stdout",
     "output_type": "stream",
     "text": [
      "Euclidean KNN classification accuracy is 0.6875.\n",
      "Riemannian KNN classification completed in  11.6  min with accuracy  0.8125\n"
     ]
    }
   ],
   "source": [
    "from geomstats.learning.knn import KNearestNeighborsClassifier\n",
    "\n",
    "n_test = len(y_test)\n",
    "\n",
    "enn = KNearestNeighborsClassifier(space=r2, n_neighbors=10)\n",
    "rnn = KNearestNeighborsClassifier(space=beta, n_neighbors=10)\n",
    "\n",
    "# Peform Euclidean KNN on processed data\n",
    "enn.fit(X_train, y_train)\n",
    "enn_pred = enn.predict(X_test)\n",
    "enn_score = 1 - gs.sum(gs.abs(enn_pred*1 - y_test*1))/n_test\n",
    "print(f'Euclidean KNN classification accuracy is {enn_score}.')\n",
    "\n",
    "# Peform Riemannian KNN on processed data\n",
    "t1 = time()\n",
    "rnn.fit(X_train, y_train)\n",
    "rnn_pred = rnn.predict(X_test)\n",
    "rnn_score = 1 - gs.sum(gs.abs(rnn_pred*1 - y_test*1))/n_test\n",
    "print('Riemannian KNN classification completed in ',\n",
    "      np.around((time() - t1)/60, 1),\n",
    "      ' min with accuracy ',\n",
    "      rnn_score\n",
    ")"
   ]
  },
  {
   "cell_type": "code",
   "execution_count": null,
   "metadata": {},
   "outputs": [],
   "source": []
  }
 ],
 "metadata": {
  "kernelspec": {
   "display_name": "Python 3 (ipykernel)",
   "language": "python",
   "name": "python3"
  },
  "language_info": {
   "codemirror_mode": {
    "name": "ipython",
    "version": 3
   },
   "file_extension": ".py",
   "mimetype": "text/x-python",
   "name": "python",
   "nbconvert_exporter": "python",
   "pygments_lexer": "ipython3",
   "version": "3.9.12"
  }
 },
 "nbformat": 4,
 "nbformat_minor": 2
}
